{
 "cells": [
  {
   "cell_type": "code",
   "execution_count": 3,
   "id": "1ec52572",
   "metadata": {},
   "outputs": [
    {
     "name": "stderr",
     "output_type": "stream",
     "text": [
      "/home/ubuntu/miniconda3/envs/pt/lib/python3.7/site-packages/ipykernel_launcher.py:20: RuntimeWarning: invalid value encountered in float_scalars\n"
     ]
    },
    {
     "name": "stdout",
     "output_type": "stream",
     "text": [
      "2416\n"
     ]
    }
   ],
   "source": [
    "import os\n",
    "import cv2 as cv\n",
    "import cv2 as cv\n",
    "import numpy as np\n",
    "import matplotlib.pyplot as plt\n",
    "root = \"./test/OUT/\"\n",
    "save_rot = \"./test_inversedisfig/\"\n",
    "names = os.listdir(root)\n",
    "count = 0\n",
    "for name in names:\n",
    "    gray = cv.imread(root+name)[..., 0]\n",
    "    a = cv.distanceTransform(gray, cv.DIST_L2, 5)\n",
    "    h, w = (512, 512)\n",
    "    mn = np.min(a)\n",
    "    mx = np.max(a)\n",
    "    norm = np.zeros((h, w), dtype=np.float32)\n",
    "    fanjuli = np.zeros((h, w), dtype=np.float32)\n",
    "    for i in range(h):\n",
    "       for j in range(w):\n",
    "           norm[i,j] = (a[i, j] - mn) / (mx - mn)\n",
    "            \n",
    "    mmin = np.min(norm)\n",
    "    for i in range(h):\n",
    "        for j in range(w):\n",
    "            if norm[i, j] != mmin:\n",
    "                fanjuli[i, j] = 1 - norm[i, j]\n",
    "            else:\n",
    "                fanjuli[i, j] = mmin\n",
    "    c = np.exp(fanjuli)#放大\n",
    "    s = save_rot + name\n",
    "    plt.imsave(s, c, cmap='gray')\n",
    "    count = count + 1\n",
    "print(count)#2416"
   ]
  },
  {
   "cell_type": "code",
   "execution_count": null,
   "id": "422d02c0",
   "metadata": {},
   "outputs": [],
   "source": []
  }
 ],
 "metadata": {
  "kernelspec": {
   "display_name": "Python 3 (ipykernel)",
   "language": "python",
   "name": "python3"
  },
  "language_info": {
   "codemirror_mode": {
    "name": "ipython",
    "version": 3
   },
   "file_extension": ".py",
   "mimetype": "text/x-python",
   "name": "python",
   "nbconvert_exporter": "python",
   "pygments_lexer": "ipython3",
   "version": "3.10.6"
  }
 },
 "nbformat": 4,
 "nbformat_minor": 5
}